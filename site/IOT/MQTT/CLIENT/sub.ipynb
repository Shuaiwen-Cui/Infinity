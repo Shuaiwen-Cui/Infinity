{
 "cells": [
  {
   "cell_type": "code",
   "execution_count": 3,
   "metadata": {},
   "outputs": [],
   "source": [
    "# import paho.mqtt.client as mqtt\n",
    "\n",
    "# # Define the broker address, port, and topic\n",
    "# broker_address = \"8.214.19.225\"\n",
    "# port = 1883\n",
    "# topic = \"csw-iot\"\n",
    "\n",
    "# # Create a MQTT client\n",
    "# client = mqtt.Client()\n",
    "\n",
    "# # Connect to the broker\n",
    "# client.connect(broker_address, port)\n",
    "\n",
    "# # Subscribe to the topic\n",
    "# client.subscribe(topic)\n",
    "\n",
    "# # Receive messages from the topic\n",
    "# def on_message(client, userdata, message):\n",
    "#     print(message.payload.decode())\n",
    "\n",
    "# # Set the callback function\n",
    "# client.on_message = on_message\n",
    "\n",
    "# # Start the loop\n",
    "# client.loop_forever()"
   ]
  },
  {
   "cell_type": "code",
   "execution_count": 4,
   "metadata": {},
   "outputs": [
    {
     "name": "stdout",
     "output_type": "stream",
     "text": [
      "Connected with result code 0\n",
      "Received message on topic csw-iot: Hello from Shuaiwen, MQTT!\n",
      "Received message on topic csw-iot: Hello from Shuaiwen, MQTT!\n",
      "Disconnected from the broker\n"
     ]
    }
   ],
   "source": [
    "import paho.mqtt.client as mqtt\n",
    "\n",
    "# Define the MQTT broker, topic, username, and password\n",
    "broker_address = \"8.222.194.160\"  # Replace with your MQTT broker address\n",
    "port = 1883 # Replace with your MQTT broker port\n",
    "heartbeat_interval = 60  # The number of seconds until a heartbeat message is sent\n",
    "topic = \"csw-iot\"\n",
    "username = \"cshwstem\"  # Replace with your MQTT broker username\n",
    "password = \"88888888\"  # Replace with your MQTT broker password\n",
    "\n",
    "# Callback when the client connects to the broker\n",
    "def on_connect(client, userdata, flags, rc):\n",
    "    print(\"Connected with result code \" + str(rc))\n",
    "    # Subscribe to the topic when connected\n",
    "    client.subscribe(topic)\n",
    "\n",
    "# Callback when a message is received from the broker\n",
    "def on_message(client, userdata, msg):\n",
    "    print(f\"Received message on topic {msg.topic}: {msg.payload.decode()}\")\n",
    "\n",
    "# Create an MQTT client instance\n",
    "client = mqtt.Client()\n",
    "\n",
    "# Set username and password\n",
    "client.username_pw_set(username, password)\n",
    "\n",
    "# Set callback functions\n",
    "client.on_connect = on_connect\n",
    "client.on_message = on_message\n",
    "\n",
    "# Connect to the broker\n",
    "client.connect(broker_address, port, heartbeat_interval)\n",
    "\n",
    "# Start the loop to handle network communication, callbacks, and reconnecting\n",
    "client.loop_start()\n",
    "\n",
    "# Wait for the connection to be established\n",
    "while not client.is_connected():\n",
    "    pass\n",
    "\n",
    "# Continue the program execution\n",
    "try:\n",
    "    # The client will subscribe to the topic in the on_connect callback\n",
    "    while True:\n",
    "        pass\n",
    "\n",
    "except KeyboardInterrupt:\n",
    "    # Disconnect from the broker when the program is interrupted\n",
    "    client.disconnect()\n",
    "    print(\"Disconnected from the broker\")\n"
   ]
  }
 ],
 "metadata": {
  "kernelspec": {
   "display_name": "base",
   "language": "python",
   "name": "python3"
  },
  "language_info": {
   "codemirror_mode": {
    "name": "ipython",
    "version": 3
   },
   "file_extension": ".py",
   "mimetype": "text/x-python",
   "name": "python",
   "nbconvert_exporter": "python",
   "pygments_lexer": "ipython3",
   "version": "3.11.5"
  }
 },
 "nbformat": 4,
 "nbformat_minor": 2
}
