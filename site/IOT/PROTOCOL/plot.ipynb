{
 "cells": [
  {
   "cell_type": "code",
   "execution_count": 1,
   "metadata": {},
   "outputs": [
    {
     "name": "stdout",
     "output_type": "stream",
     "text": [
      "Defaulting to user installation because normal site-packages is not writeable\n",
      "Requirement already satisfied: plotly in c:\\users\\cswof\\appdata\\roaming\\python\\python311\\site-packages (5.18.0)\n",
      "Requirement already satisfied: tenacity>=6.2.0 in c:\\users\\cswof\\appdata\\roaming\\python\\python311\\site-packages (from plotly) (8.2.3)\n",
      "Requirement already satisfied: packaging in c:\\users\\cswof\\appdata\\roaming\\python\\python311\\site-packages (from plotly) (23.2)\n",
      "Note: you may need to restart the kernel to use updated packages.\n",
      "Defaulting to user installation because normal site-packages is not writeable\n",
      "Requirement already satisfied: kaleido in c:\\users\\cswof\\appdata\\roaming\\python\\python311\\site-packages (0.2.1)\n",
      "Note: you may need to restart the kernel to use updated packages.\n"
     ]
    }
   ],
   "source": [
    "# import libs\n",
    "import numpy as np\n",
    "import matplotlib.pyplot as plt\n",
    "import plotly.graph_objects as go\n",
    "from plotly.subplots import make_subplots\n",
    "\n",
    "%pip install --upgrade plotly\n",
    "%pip install kaleido"
   ]
  },
  {
   "cell_type": "code",
   "execution_count": 2,
   "metadata": {},
   "outputs": [],
   "source": [
    "# data\n",
    "metrics = ['data rate', 'range', 'scalability', 'reliability', 'security', 'power usage', 'cost']\n",
    "\n",
    "# define a 2D numpy array, 13 rows, 7 columns\n",
    "\n",
    "data = np.array([\n",
    "    [  20,  10,  20,  80,  90,   5,  35], # nfc\n",
    "    [  25,  15,  25,  75,  85,  10,  40], # rfid\n",
    "    [  35,  30,  40,  70,  75,  60,  50], # bluetooth\n",
    "    [  80,  80,  70,  85,  80,  70,  55], # wifi\n",
    "    [  45,  40,  60,  75,  70,  50,  60], # zigbee\n",
    "    [  10,  90,  50,  80,  65,  30,  75], # sigfox\n",
    "    [  50,  50,  55,  75,  70,  40,  65], # thread\n",
    "    [  15,  60,  65,  90,  80,  80,  80], # celluar_2g\n",
    "    [  30,  70,  70,  85,  85,  75,  70], # celluar_3g\n",
    "    [  70,  80,  75,  90,  90,  70,  65], # celluar_4g\n",
    "    [ 100, 100,  80,  95,  95,  65,  60], # celluar_5g\n",
    "    [  40,  65,  55,  80,  75,  20,  45], # nb_iot\n",
    "    [  15,  85,  85,  75,  70,  15,  30]  # lora\n",
    "])\n",
    "\n",
    "# near field communication\n",
    "\n",
    "nfc = data[0]\n",
    "rfid = data[1]\n",
    "bluetooth = data[2]\n",
    "\n",
    "# cellular communication\n",
    "\n",
    "cellular_2g = data[7]\n",
    "cellular_3g = data[8]\n",
    "cellular_4g = data[9]\n",
    "cellular_5g = data[10]\n",
    "nb_iot = data[11]\n",
    "\n",
    "# non-cellular communication\n",
    "\n",
    "wifi = data[3]\n",
    "zigbee = data[4]\n",
    "sigfox = data[5]\n",
    "thread = data[6]\n",
    "lora = data[12]"
   ]
  },
  {
   "cell_type": "code",
   "execution_count": 3,
   "metadata": {},
   "outputs": [],
   "source": [
    "# angles = np.linspace(0, 2*np.pi, len(metrics), endpoint=False)"
   ]
  },
  {
   "cell_type": "code",
   "execution_count": 4,
   "metadata": {},
   "outputs": [],
   "source": [
    "# # use matplotlib to plot the radar chart, use subplots to plot multiple charts, 3 rows 1 column, the first chart is about the near field communication, the second chart is about the cellular communication, the third chart is about the non-cellular communication\n",
    "\n",
    "# fig, axs = plt.subplots(3, 1, figsize=(10, 10), subplot_kw=dict(polar=True))\n",
    "\n",
    "# # plot the near field communication: nfc, rfid, bluetooth, use different colors to distinguish different communication technologies\n",
    "\n",
    "# axs[0].plot(angles, nfc, 'o-', linewidth=2, label=\"nfc\", color=\"red\")\n",
    "# axs[0].plot(angles, rfid, 'o-', linewidth=2, label=\"rfid\", color=\"green\")\n",
    "# axs[0].plot(angles, bluetooth, 'o-', linewidth=2, label=\"bluetooth\", color=\"blue\")\n",
    "\n",
    "# # set the title of the first chart\n",
    "\n",
    "# axs[0].set_title('Near Field Communication', size=20, y=1.1)\n",
    "\n",
    "# # set the legend of the first chart\n",
    "\n",
    "# axs[0].legend(loc='upper right', bbox_to_anchor=(1.3, 1.1))\n",
    "\n",
    "# # set the ticks of the first chart\n",
    "\n",
    "# axs[0].set_xticks(angles[:-1])\n",
    "\n",
    "# # set the labels of the first chart\n",
    "\n",
    "# axs[0].set_xticklabels(metrics, size=12)\n",
    "\n",
    "# # set the limit of the first chart\n",
    "\n",
    "# axs[0].set_ylim(0, 100)\n",
    "\n",
    "# # set the grid of the first chart\n",
    "\n",
    "# axs[0].grid(True)\n",
    "\n",
    "# # plot the cellular communication: cellular_2g, cellular_3g, cellular_4g, cellular_5g, nb_iot, use different colors to distinguish different communication technologies\n",
    "\n",
    "# axs[1].plot(angles, cellular_2g, 'o-', linewidth=2, label=\"cellular_2g\", color=\"red\")\n",
    "# axs[1].plot(angles, cellular_3g, 'o-', linewidth=2, label=\"cellular_3g\", color=\"green\")\n",
    "# axs[1].plot(angles, cellular_4g, 'o-', linewidth=2, label=\"cellular_4g\", color=\"blue\")\n",
    "# axs[1].plot(angles, cellular_5g, 'o-', linewidth=2, label=\"cellular_5g\", color=\"yellow\")\n",
    "# axs[1].plot(angles, nb_iot, 'o-', linewidth=2, label=\"nb_iot\", color=\"purple\")\n",
    "\n",
    "# # set the title of the second chart\n",
    "\n",
    "# axs[1].set_title('Cellular Communication', size=20, y=1.1)\n",
    "\n",
    "# # set the legend of the second chart\n",
    "\n",
    "# axs[1].legend(loc='upper right', bbox_to_anchor=(1.3, 1.1))\n",
    "\n",
    "# # set the ticks of the second chart\n",
    "\n",
    "# axs[1].set_xticks(angles[:-1])\n",
    "\n",
    "# # set the labels of the second chart\n",
    "\n",
    "# axs[1].set_xticklabels(metrics, size=12)\n",
    "\n",
    "# # set the limit of the second chart\n",
    "\n",
    "# axs[1].set_ylim(0, 100)\n",
    "\n",
    "# # set the grid of the second chart\n",
    "\n",
    "# axs[1].grid(True)\n",
    "\n",
    "# # plot the non-cellular communication: wifi, zigbee, sigfox, thread, lora, use different colors to distinguish different communication technologies\n",
    "\n",
    "# axs[2].plot(angles, wifi, 'o-', linewidth=2, label=\"wifi\", color=\"red\")\n",
    "# axs[2].plot(angles, zigbee, 'o-', linewidth=2, label=\"zigbee\", color=\"green\")\n",
    "# axs[2].plot(angles, sigfox, 'o-', linewidth=2, label=\"sigfox\", color=\"blue\")\n",
    "# axs[2].plot(angles, thread, 'o-', linewidth=2, label=\"thread\", color=\"yellow\")\n",
    "# axs[2].plot(angles, lora, 'o-', linewidth=2, label=\"lora\", color=\"purple\")\n",
    "\n",
    "# # set the title of the third chart\n",
    "\n",
    "# axs[2].set_title('Non-Cellular Communication', size=20, y=1.1)\n",
    "\n",
    "# # set the legend of the third chart\n",
    "\n",
    "# axs[2].legend(loc='upper right', bbox_to_anchor=(1.3, 1.1))\n",
    "\n",
    "# # set the ticks of the third chart\n",
    "\n",
    "# axs[2].set_xticks(angles[:-1])\n",
    "\n",
    "# # set the labels of the third chart\n",
    "\n",
    "# axs[2].set_xticklabels(metrics, size=12)\n",
    "\n",
    "# # set the limit of the third chart\n",
    "\n",
    "# axs[2].set_ylim(0, 100)\n",
    "\n",
    "# # set the grid of the third chart\n",
    "\n",
    "# axs[2].grid(True)\n",
    "\n",
    "# # show the radar chart\n",
    "\n",
    "# plt.show()\n",
    "\n",
    "\n",
    "\n"
   ]
  },
  {
   "cell_type": "code",
   "execution_count": 5,
   "metadata": {},
   "outputs": [
    {
     "data": {
      "application/vnd.plotly.v1+json": {
       "config": {
        "plotlyServerURL": "https://plot.ly"
       },
       "data": [
        {
         "fill": "toself",
         "name": "NFC",
         "r": [
          20,
          10,
          20,
          80,
          90,
          5,
          35
         ],
         "theta": [
          "data rate",
          "range",
          "scalability",
          "reliability",
          "security",
          "power usage",
          "cost"
         ],
         "type": "scatterpolar"
        },
        {
         "fill": "toself",
         "name": "RFID",
         "r": [
          25,
          15,
          25,
          75,
          85,
          10,
          40
         ],
         "theta": [
          "data rate",
          "range",
          "scalability",
          "reliability",
          "security",
          "power usage",
          "cost"
         ],
         "type": "scatterpolar"
        },
        {
         "fill": "toself",
         "name": "Bluetooth",
         "r": [
          35,
          30,
          40,
          70,
          75,
          60,
          50
         ],
         "theta": [
          "data rate",
          "range",
          "scalability",
          "reliability",
          "security",
          "power usage",
          "cost"
         ],
         "type": "scatterpolar"
        }
       ],
       "layout": {
        "font": {
         "color": "Black",
         "family": "Times New Roman",
         "size": 20
        },
        "polar": {
         "radialaxis": {
          "range": [
           0,
           100
          ],
          "visible": false
         }
        },
        "showlegend": true,
        "template": {
         "data": {
          "bar": [
           {
            "error_x": {
             "color": "#2a3f5f"
            },
            "error_y": {
             "color": "#2a3f5f"
            },
            "marker": {
             "line": {
              "color": "#E5ECF6",
              "width": 0.5
             },
             "pattern": {
              "fillmode": "overlay",
              "size": 10,
              "solidity": 0.2
             }
            },
            "type": "bar"
           }
          ],
          "barpolar": [
           {
            "marker": {
             "line": {
              "color": "#E5ECF6",
              "width": 0.5
             },
             "pattern": {
              "fillmode": "overlay",
              "size": 10,
              "solidity": 0.2
             }
            },
            "type": "barpolar"
           }
          ],
          "carpet": [
           {
            "aaxis": {
             "endlinecolor": "#2a3f5f",
             "gridcolor": "white",
             "linecolor": "white",
             "minorgridcolor": "white",
             "startlinecolor": "#2a3f5f"
            },
            "baxis": {
             "endlinecolor": "#2a3f5f",
             "gridcolor": "white",
             "linecolor": "white",
             "minorgridcolor": "white",
             "startlinecolor": "#2a3f5f"
            },
            "type": "carpet"
           }
          ],
          "choropleth": [
           {
            "colorbar": {
             "outlinewidth": 0,
             "ticks": ""
            },
            "type": "choropleth"
           }
          ],
          "contour": [
           {
            "colorbar": {
             "outlinewidth": 0,
             "ticks": ""
            },
            "colorscale": [
             [
              0,
              "#0d0887"
             ],
             [
              0.1111111111111111,
              "#46039f"
             ],
             [
              0.2222222222222222,
              "#7201a8"
             ],
             [
              0.3333333333333333,
              "#9c179e"
             ],
             [
              0.4444444444444444,
              "#bd3786"
             ],
             [
              0.5555555555555556,
              "#d8576b"
             ],
             [
              0.6666666666666666,
              "#ed7953"
             ],
             [
              0.7777777777777778,
              "#fb9f3a"
             ],
             [
              0.8888888888888888,
              "#fdca26"
             ],
             [
              1,
              "#f0f921"
             ]
            ],
            "type": "contour"
           }
          ],
          "contourcarpet": [
           {
            "colorbar": {
             "outlinewidth": 0,
             "ticks": ""
            },
            "type": "contourcarpet"
           }
          ],
          "heatmap": [
           {
            "colorbar": {
             "outlinewidth": 0,
             "ticks": ""
            },
            "colorscale": [
             [
              0,
              "#0d0887"
             ],
             [
              0.1111111111111111,
              "#46039f"
             ],
             [
              0.2222222222222222,
              "#7201a8"
             ],
             [
              0.3333333333333333,
              "#9c179e"
             ],
             [
              0.4444444444444444,
              "#bd3786"
             ],
             [
              0.5555555555555556,
              "#d8576b"
             ],
             [
              0.6666666666666666,
              "#ed7953"
             ],
             [
              0.7777777777777778,
              "#fb9f3a"
             ],
             [
              0.8888888888888888,
              "#fdca26"
             ],
             [
              1,
              "#f0f921"
             ]
            ],
            "type": "heatmap"
           }
          ],
          "heatmapgl": [
           {
            "colorbar": {
             "outlinewidth": 0,
             "ticks": ""
            },
            "colorscale": [
             [
              0,
              "#0d0887"
             ],
             [
              0.1111111111111111,
              "#46039f"
             ],
             [
              0.2222222222222222,
              "#7201a8"
             ],
             [
              0.3333333333333333,
              "#9c179e"
             ],
             [
              0.4444444444444444,
              "#bd3786"
             ],
             [
              0.5555555555555556,
              "#d8576b"
             ],
             [
              0.6666666666666666,
              "#ed7953"
             ],
             [
              0.7777777777777778,
              "#fb9f3a"
             ],
             [
              0.8888888888888888,
              "#fdca26"
             ],
             [
              1,
              "#f0f921"
             ]
            ],
            "type": "heatmapgl"
           }
          ],
          "histogram": [
           {
            "marker": {
             "pattern": {
              "fillmode": "overlay",
              "size": 10,
              "solidity": 0.2
             }
            },
            "type": "histogram"
           }
          ],
          "histogram2d": [
           {
            "colorbar": {
             "outlinewidth": 0,
             "ticks": ""
            },
            "colorscale": [
             [
              0,
              "#0d0887"
             ],
             [
              0.1111111111111111,
              "#46039f"
             ],
             [
              0.2222222222222222,
              "#7201a8"
             ],
             [
              0.3333333333333333,
              "#9c179e"
             ],
             [
              0.4444444444444444,
              "#bd3786"
             ],
             [
              0.5555555555555556,
              "#d8576b"
             ],
             [
              0.6666666666666666,
              "#ed7953"
             ],
             [
              0.7777777777777778,
              "#fb9f3a"
             ],
             [
              0.8888888888888888,
              "#fdca26"
             ],
             [
              1,
              "#f0f921"
             ]
            ],
            "type": "histogram2d"
           }
          ],
          "histogram2dcontour": [
           {
            "colorbar": {
             "outlinewidth": 0,
             "ticks": ""
            },
            "colorscale": [
             [
              0,
              "#0d0887"
             ],
             [
              0.1111111111111111,
              "#46039f"
             ],
             [
              0.2222222222222222,
              "#7201a8"
             ],
             [
              0.3333333333333333,
              "#9c179e"
             ],
             [
              0.4444444444444444,
              "#bd3786"
             ],
             [
              0.5555555555555556,
              "#d8576b"
             ],
             [
              0.6666666666666666,
              "#ed7953"
             ],
             [
              0.7777777777777778,
              "#fb9f3a"
             ],
             [
              0.8888888888888888,
              "#fdca26"
             ],
             [
              1,
              "#f0f921"
             ]
            ],
            "type": "histogram2dcontour"
           }
          ],
          "mesh3d": [
           {
            "colorbar": {
             "outlinewidth": 0,
             "ticks": ""
            },
            "type": "mesh3d"
           }
          ],
          "parcoords": [
           {
            "line": {
             "colorbar": {
              "outlinewidth": 0,
              "ticks": ""
             }
            },
            "type": "parcoords"
           }
          ],
          "pie": [
           {
            "automargin": true,
            "type": "pie"
           }
          ],
          "scatter": [
           {
            "fillpattern": {
             "fillmode": "overlay",
             "size": 10,
             "solidity": 0.2
            },
            "type": "scatter"
           }
          ],
          "scatter3d": [
           {
            "line": {
             "colorbar": {
              "outlinewidth": 0,
              "ticks": ""
             }
            },
            "marker": {
             "colorbar": {
              "outlinewidth": 0,
              "ticks": ""
             }
            },
            "type": "scatter3d"
           }
          ],
          "scattercarpet": [
           {
            "marker": {
             "colorbar": {
              "outlinewidth": 0,
              "ticks": ""
             }
            },
            "type": "scattercarpet"
           }
          ],
          "scattergeo": [
           {
            "marker": {
             "colorbar": {
              "outlinewidth": 0,
              "ticks": ""
             }
            },
            "type": "scattergeo"
           }
          ],
          "scattergl": [
           {
            "marker": {
             "colorbar": {
              "outlinewidth": 0,
              "ticks": ""
             }
            },
            "type": "scattergl"
           }
          ],
          "scattermapbox": [
           {
            "marker": {
             "colorbar": {
              "outlinewidth": 0,
              "ticks": ""
             }
            },
            "type": "scattermapbox"
           }
          ],
          "scatterpolar": [
           {
            "marker": {
             "colorbar": {
              "outlinewidth": 0,
              "ticks": ""
             }
            },
            "type": "scatterpolar"
           }
          ],
          "scatterpolargl": [
           {
            "marker": {
             "colorbar": {
              "outlinewidth": 0,
              "ticks": ""
             }
            },
            "type": "scatterpolargl"
           }
          ],
          "scatterternary": [
           {
            "marker": {
             "colorbar": {
              "outlinewidth": 0,
              "ticks": ""
             }
            },
            "type": "scatterternary"
           }
          ],
          "surface": [
           {
            "colorbar": {
             "outlinewidth": 0,
             "ticks": ""
            },
            "colorscale": [
             [
              0,
              "#0d0887"
             ],
             [
              0.1111111111111111,
              "#46039f"
             ],
             [
              0.2222222222222222,
              "#7201a8"
             ],
             [
              0.3333333333333333,
              "#9c179e"
             ],
             [
              0.4444444444444444,
              "#bd3786"
             ],
             [
              0.5555555555555556,
              "#d8576b"
             ],
             [
              0.6666666666666666,
              "#ed7953"
             ],
             [
              0.7777777777777778,
              "#fb9f3a"
             ],
             [
              0.8888888888888888,
              "#fdca26"
             ],
             [
              1,
              "#f0f921"
             ]
            ],
            "type": "surface"
           }
          ],
          "table": [
           {
            "cells": {
             "fill": {
              "color": "#EBF0F8"
             },
             "line": {
              "color": "white"
             }
            },
            "header": {
             "fill": {
              "color": "#C8D4E3"
             },
             "line": {
              "color": "white"
             }
            },
            "type": "table"
           }
          ]
         },
         "layout": {
          "annotationdefaults": {
           "arrowcolor": "#2a3f5f",
           "arrowhead": 0,
           "arrowwidth": 1
          },
          "autotypenumbers": "strict",
          "coloraxis": {
           "colorbar": {
            "outlinewidth": 0,
            "ticks": ""
           }
          },
          "colorscale": {
           "diverging": [
            [
             0,
             "#8e0152"
            ],
            [
             0.1,
             "#c51b7d"
            ],
            [
             0.2,
             "#de77ae"
            ],
            [
             0.3,
             "#f1b6da"
            ],
            [
             0.4,
             "#fde0ef"
            ],
            [
             0.5,
             "#f7f7f7"
            ],
            [
             0.6,
             "#e6f5d0"
            ],
            [
             0.7,
             "#b8e186"
            ],
            [
             0.8,
             "#7fbc41"
            ],
            [
             0.9,
             "#4d9221"
            ],
            [
             1,
             "#276419"
            ]
           ],
           "sequential": [
            [
             0,
             "#0d0887"
            ],
            [
             0.1111111111111111,
             "#46039f"
            ],
            [
             0.2222222222222222,
             "#7201a8"
            ],
            [
             0.3333333333333333,
             "#9c179e"
            ],
            [
             0.4444444444444444,
             "#bd3786"
            ],
            [
             0.5555555555555556,
             "#d8576b"
            ],
            [
             0.6666666666666666,
             "#ed7953"
            ],
            [
             0.7777777777777778,
             "#fb9f3a"
            ],
            [
             0.8888888888888888,
             "#fdca26"
            ],
            [
             1,
             "#f0f921"
            ]
           ],
           "sequentialminus": [
            [
             0,
             "#0d0887"
            ],
            [
             0.1111111111111111,
             "#46039f"
            ],
            [
             0.2222222222222222,
             "#7201a8"
            ],
            [
             0.3333333333333333,
             "#9c179e"
            ],
            [
             0.4444444444444444,
             "#bd3786"
            ],
            [
             0.5555555555555556,
             "#d8576b"
            ],
            [
             0.6666666666666666,
             "#ed7953"
            ],
            [
             0.7777777777777778,
             "#fb9f3a"
            ],
            [
             0.8888888888888888,
             "#fdca26"
            ],
            [
             1,
             "#f0f921"
            ]
           ]
          },
          "colorway": [
           "#636efa",
           "#EF553B",
           "#00cc96",
           "#ab63fa",
           "#FFA15A",
           "#19d3f3",
           "#FF6692",
           "#B6E880",
           "#FF97FF",
           "#FECB52"
          ],
          "font": {
           "color": "#2a3f5f"
          },
          "geo": {
           "bgcolor": "white",
           "lakecolor": "white",
           "landcolor": "#E5ECF6",
           "showlakes": true,
           "showland": true,
           "subunitcolor": "white"
          },
          "hoverlabel": {
           "align": "left"
          },
          "hovermode": "closest",
          "mapbox": {
           "style": "light"
          },
          "paper_bgcolor": "white",
          "plot_bgcolor": "#E5ECF6",
          "polar": {
           "angularaxis": {
            "gridcolor": "white",
            "linecolor": "white",
            "ticks": ""
           },
           "bgcolor": "#E5ECF6",
           "radialaxis": {
            "gridcolor": "white",
            "linecolor": "white",
            "ticks": ""
           }
          },
          "scene": {
           "xaxis": {
            "backgroundcolor": "#E5ECF6",
            "gridcolor": "white",
            "gridwidth": 2,
            "linecolor": "white",
            "showbackground": true,
            "ticks": "",
            "zerolinecolor": "white"
           },
           "yaxis": {
            "backgroundcolor": "#E5ECF6",
            "gridcolor": "white",
            "gridwidth": 2,
            "linecolor": "white",
            "showbackground": true,
            "ticks": "",
            "zerolinecolor": "white"
           },
           "zaxis": {
            "backgroundcolor": "#E5ECF6",
            "gridcolor": "white",
            "gridwidth": 2,
            "linecolor": "white",
            "showbackground": true,
            "ticks": "",
            "zerolinecolor": "white"
           }
          },
          "shapedefaults": {
           "line": {
            "color": "#2a3f5f"
           }
          },
          "ternary": {
           "aaxis": {
            "gridcolor": "white",
            "linecolor": "white",
            "ticks": ""
           },
           "baxis": {
            "gridcolor": "white",
            "linecolor": "white",
            "ticks": ""
           },
           "bgcolor": "#E5ECF6",
           "caxis": {
            "gridcolor": "white",
            "linecolor": "white",
            "ticks": ""
           }
          },
          "title": {
           "x": 0.05
          },
          "xaxis": {
           "automargin": true,
           "gridcolor": "white",
           "linecolor": "white",
           "ticks": "",
           "title": {
            "standoff": 15
           },
           "zerolinecolor": "white",
           "zerolinewidth": 2
          },
          "yaxis": {
           "automargin": true,
           "gridcolor": "white",
           "linecolor": "white",
           "ticks": "",
           "title": {
            "standoff": 15
           },
           "zerolinecolor": "white",
           "zerolinewidth": 2
          }
         }
        }
       }
      }
     },
     "metadata": {},
     "output_type": "display_data"
    }
   ],
   "source": [
    "# use plotly to create a radar chart regarding near field communication\n",
    "\n",
    "fig_near_field_communication = go.Figure(data=go.Scatterpolar(\n",
    "    r=nfc,\n",
    "    theta=metrics,\n",
    "    fill='toself',\n",
    "    name='NFC'\n",
    "))\n",
    "\n",
    "fig_near_field_communication.add_trace(go.Scatterpolar(\n",
    "    r=rfid,\n",
    "    theta=metrics,\n",
    "    fill='toself',\n",
    "    name='RFID'\n",
    "))\n",
    "\n",
    "fig_near_field_communication.add_trace(go.Scatterpolar(\n",
    "    r=bluetooth,\n",
    "    theta=metrics,\n",
    "    fill='toself',\n",
    "    name='Bluetooth'\n",
    "))\n",
    "\n",
    "fig_near_field_communication.update_layout(\n",
    "    polar=dict(\n",
    "        radialaxis=dict(\n",
    "            visible=False,\n",
    "            range=[0, 100]\n",
    "        )),\n",
    "    font=dict(\n",
    "        family=\"Times New Roman\",\n",
    "        size=20,\n",
    "        color=\"Black\"\n",
    "    ),\n",
    "    showlegend=True\n",
    ")\n",
    "\n",
    "fig_near_field_communication.show()\n",
    "\n",
    "# save the figure as jpg file and png file\n",
    "\n",
    "fig_near_field_communication.write_image(\"near_field_communication.jpg\")\n",
    "fig_near_field_communication.write_image(\"near_field_communication.png\")\n",
    "\n"
   ]
  },
  {
   "cell_type": "code",
   "execution_count": null,
   "metadata": {},
   "outputs": [],
   "source": [
    "# use plotly to create a radar chart regarding cellular communication\n",
    "\n",
    "fig_cellular_communication = go.Figure(data=go.Scatterpolar(\n",
    "    r=cellular_2g,\n",
    "    theta=metrics,\n",
    "    fill='toself',\n",
    "    name='2G'\n",
    "))\n",
    "\n",
    "fig_cellular_communication.add_trace(go.Scatterpolar(\n",
    "    r=cellular_3g,\n",
    "    theta=metrics,\n",
    "    fill='toself',\n",
    "    name='3G'\n",
    "))\n",
    "\n",
    "fig_cellular_communication.add_trace(go.Scatterpolar(\n",
    "    r=cellular_4g,\n",
    "    theta=metrics,\n",
    "    fill='toself',\n",
    "    name='4G'\n",
    "))\n",
    "\n",
    "fig_cellular_communication.add_trace(go.Scatterpolar(\n",
    "    r=cellular_5g,\n",
    "    theta=metrics,\n",
    "    fill='toself',\n",
    "    name='5G'\n",
    "))\n",
    "\n",
    "fig_cellular_communication.add_trace(go.Scatterpolar(\n",
    "    r=nb_iot,\n",
    "    theta=metrics,\n",
    "    fill='toself',\n",
    "    name='NB-IoT'\n",
    "))\n",
    "\n",
    "# font times new roman, bold, size 20; ticket not shown\n",
    "fig_cellular_communication.update_layout(\n",
    "    polar=dict(\n",
    "        radialaxis=dict(\n",
    "            visible=False,\n",
    "            range=[0, 100]\n",
    "        )),\n",
    "    font=dict(\n",
    "        family=\"Times New Roman\",\n",
    "        size=20,\n",
    "        color=\"Black\"\n",
    "    ),\n",
    "    showlegend=True\n",
    ")\n",
    "\n",
    "fig_cellular_communication.show()\n",
    "\n",
    "# save the figure as jpg file and png file\n",
    "\n",
    "fig_cellular_communication.write_image(\"cellular_communication.jpg\")\n",
    "fig_cellular_communication.write_image(\"cellular_communication.png\")"
   ]
  },
  {
   "cell_type": "code",
   "execution_count": null,
   "metadata": {},
   "outputs": [],
   "source": [
    "# use plotly to create a radar chart regarding non-cellular communication\n",
    "\n",
    "fig_non_cellular_communication = go.Figure(data=go.Scatterpolar(\n",
    "    r=wifi,\n",
    "    theta=metrics,\n",
    "    fill='toself',\n",
    "    name='WiFi'\n",
    "))\n",
    "\n",
    "fig_non_cellular_communication.add_trace(go.Scatterpolar(\n",
    "    r=zigbee,\n",
    "    theta=metrics,\n",
    "    fill='toself',\n",
    "    name='Zigbee'\n",
    "))\n",
    "\n",
    "fig_non_cellular_communication.add_trace(go.Scatterpolar(\n",
    "    r=sigfox,\n",
    "    theta=metrics,\n",
    "    fill='toself',\n",
    "    name='Sigfox'\n",
    "))\n",
    "\n",
    "fig_non_cellular_communication.add_trace(go.Scatterpolar(\n",
    "    r=thread,\n",
    "    theta=metrics,\n",
    "    fill='toself',\n",
    "    name='Thread'\n",
    "))\n",
    "\n",
    "fig_non_cellular_communication.add_trace(go.Scatterpolar(\n",
    "    r=lora,\n",
    "    theta=metrics,\n",
    "    fill='toself',\n",
    "    name='LoRa'\n",
    "))\n",
    "\n",
    "fig_non_cellular_communication.update_layout(\n",
    "    polar=dict(\n",
    "        radialaxis=dict(\n",
    "            visible=False,\n",
    "            range=[0, 100]\n",
    "        )),\n",
    "    font=dict(\n",
    "        family=\"Times New Roman\",\n",
    "        size=20,\n",
    "        color=\"Black\"\n",
    "    ),\n",
    "    showlegend=True\n",
    ")\n",
    "\n",
    "fig_non_cellular_communication.show()\n",
    "\n",
    "# save the figure as jpg file and png file\n",
    "\n",
    "fig_non_cellular_communication.write_image(\"non_cellular_communication.jpg\")\n",
    "fig_non_cellular_communication.write_image(\"non_cellular_communication.png\")"
   ]
  },
  {
   "cell_type": "code",
   "execution_count": null,
   "metadata": {},
   "outputs": [],
   "source": [
    "# # use subplots to create a radar chart regarding all communication, 3 rows, 1 column, the first row is near field communication, the second row is cellular communication, the third row is non-cellular communication\n",
    "\n",
    "# fig = make_subplots(rows=3, cols=1, subplot_titles=(\"Near Field Communication\", \"Cellular Communication\", \"Non-Cellular Communication\"))\n",
    "\n",
    "# fig.add_trace(go.Scatterpolar(\n",
    "#     r=nfc,\n",
    "#     theta=metrics,\n",
    "#     fill='toself',\n",
    "#     name='NFC'\n",
    "# ), row=1, col=1)\n",
    "\n",
    "# fig.add_trace(go.Scatterpolar(\n",
    "#     r=rfid,\n",
    "#     theta=metrics,\n",
    "#     fill='toself',\n",
    "#     name='RFID'\n",
    "# ), row=1, col=1)\n",
    "\n",
    "# fig.add_trace(go.Scatterpolar(\n",
    "#     r=bluetooth,\n",
    "#     theta=metrics,\n",
    "#     fill='toself',\n",
    "#     name='Bluetooth'\n",
    "# ), row=1, col=1)\n",
    "\n",
    "# fig.add_trace(go.Scatterpolar(\n",
    "#     r=cellular_2g,\n",
    "#     theta=metrics,\n",
    "#     fill='toself',\n",
    "#     name='2G'\n",
    "# ), row=2, col=1)\n",
    "\n",
    "# fig.add_trace(go.Scatterpolar(\n",
    "#     r=cellular_3g,\n",
    "#     theta=metrics,\n",
    "#     fill='toself',\n",
    "#     name='3G'\n",
    "# ), row=2, col=1)\n",
    "\n",
    "# fig.add_trace(go.Scatterpolar(\n",
    "#     r=cellular_4g,\n",
    "#     theta=metrics,\n",
    "#     fill='toself',\n",
    "#     name='4G'\n",
    "# ), row=2, col=1)\n",
    "\n",
    "# fig.add_trace(go.Scatterpolar(\n",
    "#     r=cellular_5g,\n",
    "#     theta=metrics,\n",
    "#     fill='toself',\n",
    "#     name='5G'\n",
    "# ), row=2, col=1)\n",
    "\n",
    "# fig.add_trace(go.Scatterpolar(\n",
    "#     r=nb_iot,\n",
    "#     theta=metrics,\n",
    "#     fill='toself',\n",
    "#     name='NB-IoT'\n",
    "# ), row=2, col=1)\n",
    "\n",
    "# fig.add_trace(go.Scatterpolar(\n",
    "#     r=wifi,\n",
    "#     theta=metrics,\n",
    "#     fill='toself',\n",
    "#     name='WiFi'\n",
    "# ), row=3, col=1)\n",
    "\n",
    "# fig.add_trace(go.Scatterpolar(\n",
    "#     r=zigbee,\n",
    "#     theta=metrics,\n",
    "#     fill='toself',\n",
    "#     name='Zigbee'\n",
    "# ), row=3, col=1)\n",
    "\n",
    "# fig.add_trace(go.Scatterpolar(\n",
    "#     r=sigfox,\n",
    "#     theta=metrics,\n",
    "#     fill='toself',\n",
    "#     name='Sigfox'\n",
    "# ), row=3, col=1)\n",
    "\n",
    "# fig.add_trace(go.Scatterpolar(\n",
    "#     r=thread,\n",
    "#     theta=metrics,\n",
    "#     fill='toself',\n",
    "#     name='Thread'\n",
    "# ), row=3, col=1)\n",
    "\n",
    "# fig.add_trace(go.Scatterpolar(\n",
    "#     r=lora,\n",
    "#     theta=metrics,\n",
    "#     fill='toself',\n",
    "#     name='LoRa'\n",
    "# ), row=3, col=1)\n",
    "\n",
    "# fig.update_layout(\n",
    "#     polar=dict(\n",
    "#         radialaxis=dict(\n",
    "#             visible=False,\n",
    "#             range=[0, 100]\n",
    "#         )),\n",
    "#     font=dict(\n",
    "#         family=\"Times New Roman\",\n",
    "#         size=20,\n",
    "#         color=\"Black\"\n",
    "#     ),\n",
    "#     showlegend=True\n",
    "# )\n",
    "\n",
    "# fig.show()\n"
   ]
  }
 ],
 "metadata": {
  "kernelspec": {
   "display_name": "base",
   "language": "python",
   "name": "python3"
  },
  "language_info": {
   "codemirror_mode": {
    "name": "ipython",
    "version": 3
   },
   "file_extension": ".py",
   "mimetype": "text/x-python",
   "name": "python",
   "nbconvert_exporter": "python",
   "pygments_lexer": "ipython3",
   "version": "3.11.5"
  }
 },
 "nbformat": 4,
 "nbformat_minor": 2
}
